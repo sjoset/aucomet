{
 "cells": [
  {
   "cell_type": "code",
   "execution_count": 26,
   "id": "5aa8e090-4545-48be-818f-2f671b77de58",
   "metadata": {
    "tags": []
   },
   "outputs": [],
   "source": [
    "import pathlib\n",
    "import requests\n",
    "import subprocess\n",
    "import os\n",
    "\n",
    "from bs4 import BeautifulSoup\n",
    "from typing import List, Tuple\n",
    "from urllib.parse import urlparse, parse_qs"
   ]
  },
  {
   "cell_type": "code",
   "execution_count": 3,
   "id": "4b535422-c7bc-43f0-8501-c8dc4cdeba85",
   "metadata": {
    "tags": []
   },
   "outputs": [],
   "source": [
    "swift_available_data = ['auxil', 'bat', 'log', 'uvot', 'xrt']"
   ]
  },
  {
   "cell_type": "code",
   "execution_count": 4,
   "id": "a6787f59-887f-4aaf-9519-0f7194654f98",
   "metadata": {
    "tags": []
   },
   "outputs": [],
   "source": [
    "def search_swift_dead_portal(search: str) -> List[Tuple[str, str]]:\n",
    "    \n",
    "    # Searches the dead Swift portal by target name and returns a list of tuples (target id, target name)\n",
    "    # Target names aren't necessarily standardized so a single object may have multiple target names\n",
    "    \n",
    "    # construct the search url\n",
    "    base_search_url = 'https://www.swift.ac.uk/dead_portal/getobject.php'\n",
    "    search_url = base_search_url + '?name=' + search + '&submit=Search+Names'\n",
    "    \n",
    "    # download the search page and parse it\n",
    "    page_html = requests.get(search_url)\n",
    "    search_soup = BeautifulSoup(page_html.text, features=\"lxml\")\n",
    "    \n",
    "    # TODO: if there are 0 results, you get an error page - check for that\n",
    "    # if there is only 1 result, you get taken directly to its download page\n",
    "    # both of these cases break the search results as it stands\n",
    "    \n",
    "    # get the main results table\n",
    "    results_table = search_soup.find(\"table\", {\"class\": \"chTable\"})\n",
    "    \n",
    "    # ignore the first row with the names of the columns, and the last row with links for all of the data\n",
    "    table_rows = results_table.find_all(\"tr\")[1:-1]\n",
    "    \n",
    "    # .contents is a list, our table has only one element in it, so take contents[0]\n",
    "    tids = [row.find(\"td\", {\"headers\": \"row_targ\"}).contents[0] for row in table_rows]\n",
    "    tnames = [row.find(\"td\", {\"headers\": \"row_name\"}).contents[0] for row in table_rows]\n",
    "\n",
    "    all_targets_zip = zip(tids, tnames)\n",
    "    return list(all_targets_zip)"
   ]
  },
  {
   "cell_type": "code",
   "execution_count": 5,
   "id": "6a2c06af-6224-4440-b067-35d6cb49da20",
   "metadata": {
    "tags": []
   },
   "outputs": [],
   "source": [
    "def get_swift_wget_commands(tid: str, dtype: str, overwrite: bool) -> List[str]:\n",
    "\n",
    "    # for any given target id, there may be multiple observations in their own directories,\n",
    "    # with the naming scheme {target id}001/, {target id}002/, etc.\n",
    "    # so we let the server give us the appropriate wget commands because it knows how\n",
    "    # many observations each target id has\n",
    "    \n",
    "    if overwrite is False:\n",
    "        overwrite_option = '-nc'\n",
    "    else:\n",
    "        overwrite_option = ''\n",
    "        \n",
    "    # this page returns a script with wget commands to download our data\n",
    "    base_wget_url = f'https://www.swift.ac.uk/archive/download.sh?reproc=1&tid={tid}&source=obs&subdir={dtype}'\n",
    "    wget_response = requests.get(base_wget_url)\n",
    "    wget_commands = [line for line in wget_response.text.splitlines() if 'wget' in line]\n",
    "    urls = [command.split()[-1] for command in wget_commands]\n",
    "    \n",
    "    # -nc ==> no clobber: don't replace already downloaded files\n",
    "    # -q ==> quiet mode, no output\n",
    "    # -w 2 ==> wait 2 seconds between files\n",
    "    # -nH ==> don't create a directory based on the host, in this case no folder named www.swift.ac.uk/\n",
    "    # --cut-dirs=2 ==> remove the /archive/reproc/ folders on the server from being created locally\n",
    "    # -r ==> recursive: grab everything under this folder on the server\n",
    "    # --reject ... ==> specify files that we don't want from the server\n",
    "    adjusted_wget_commands = ['wget ' + overwrite_option + ' -q -w 2 -nH --cut-dirs=2 -r --no-parent --reject index.html*,robots.txt* ' + url for url in urls]\n",
    "    \n",
    "    return adjusted_wget_commands"
   ]
  },
  {
   "cell_type": "code",
   "execution_count": 6,
   "id": "ecb3d9f1-3c32-4fa1-926d-139eb570f16a",
   "metadata": {
    "tags": []
   },
   "outputs": [],
   "source": [
    "def swift_download_uncompressed(tid: str, dtype: str, dest_dir: pathlib.Path = None, overwrite: bool = False) -> None:\n",
    "    \n",
    "    # given a Swift target id and type of data, this function downloads the uncompressed\n",
    "    # data to the directory dest_dir\n",
    "    \n",
    "    # check to make sure we're asking for a type of data that exists\n",
    "    if dtype not in swift_available_data:\n",
    "        print(f\"Unsupported data type {dtype}!\\nTry one of: {', '.join(swift_available_data)}.\")\n",
    "        return None\n",
    "    \n",
    "    # get our download commands from the server\n",
    "    wget_commands = get_swift_wget_commands(tid=tid, dtype=dtype, overwrite=overwrite)\n",
    "    if wget_commands is None:\n",
    "        print(\"No wget commands to execute, skipping downloads...\")\n",
    "        return\n",
    "    \n",
    "    # change folders if we need to\n",
    "    old_cwd = os.getcwd()\n",
    "    if dest_dir is not None:\n",
    "        os.chdir(dest_dir)\n",
    "    print(f\"Downloading {dtype} data of target id {tid} to {os.getcwd()} ...\")\n",
    "    \n",
    "    # run each command to grab the individual observations for this target id\n",
    "    for command in wget_commands:\n",
    "        presult = subprocess.run(command.split())\n",
    "        if presult.returncode != 0:\n",
    "            print(f\"Non-zero return code {presult.returncode} for {command}!\")\n",
    "    \n",
    "    # change folders back\n",
    "    os.chdir(old_cwd)"
   ]
  },
  {
   "cell_type": "code",
   "execution_count": 7,
   "id": "abfbb9e9-f109-41fd-b354-e7d389f69fc0",
   "metadata": {
    "tags": []
   },
   "outputs": [],
   "source": [
    "def swift_download_compressed(tid: str, tname: str, dtype: str, archive_type: str, dest_dir: pathlib.Path, overwrite: bool = False) -> None:\n",
    "\n",
    "    \"\"\"\n",
    "        Downloads an archive of Swift data from swift.ac.uk to dest_dir\n",
    "\n",
    "        Parameters\n",
    "        ----------\n",
    "        tid : string\n",
    "            The target ID to be downloaded, e.g. '00020405'\n",
    "        tname: string\n",
    "            The name of the target, e.g. 'CometC/2031US10(Catalina)'\n",
    "        dtype: string\n",
    "            The type of data being downloaded, e.g. 'uvot'\n",
    "        archive_type: string\n",
    "            One of 'zip' or 'tar' to download the corresponding type\n",
    "        dest_dir: pathlib.Path\n",
    "            Directory to place files\n",
    "        overwrite: bool\n",
    "            Whether or not to overwrite the file if it already exists\n",
    "    \"\"\"\n",
    "    \n",
    "    # check to make sure we're asking for a type of data that exists\n",
    "    if dtype not in swift_available_data:\n",
    "        print(f\"Unsupported data type {dtype}!\\nTry one of: {', '.join(swift_available_data)}.\")\n",
    "        return None\n",
    "    \n",
    "    # check if the archive type is valid\n",
    "    available_archive_types = ['tar', 'zip']\n",
    "    if archive_type not in available_archive_types:\n",
    "        print(f\"Unsupported archive type {archive_type}!\\nTry one of: {', '.join(available_archive_types)}.\")\n",
    "        return\n",
    "    \n",
    "    # change folders if we need to\n",
    "    old_cwd = os.getcwd()\n",
    "    if dest_dir is not None:\n",
    "        os.chdir(dest_dir)\n",
    "    \n",
    "    # name the archive with the target id and data type, because the server returns 'download.tar' no matter what\n",
    "    out_file_stem = pathlib.Path(tid + f\"_{dtype}\")\n",
    "    \n",
    "    # download\n",
    "    if archive_type == 'zip':\n",
    "        print(f\"Downloading .zip archives is broken server-side so is currently unsupported.\")\n",
    "    if archive_type == 'tar':\n",
    "        swift_download_compressed_tar(tid=tid, tname=tname, dtype=dtype, out_file_stem=out_file_stem, overwrite=overwrite)\n",
    "\n",
    "    os.chdir(old_cwd)\n",
    "    return"
   ]
  },
  {
   "cell_type": "code",
   "execution_count": 8,
   "id": "75942ce0-ecc3-436c-9378-fba0086308bc",
   "metadata": {
    "tags": []
   },
   "outputs": [],
   "source": [
    "def swift_download_compressed_tar(tid: str, tname: str, dtype: str, out_file_stem: pathlib.Path, overwrite: bool) -> None:\n",
    "\n",
    "    out_file = out_file_stem.with_suffix('.tar')\n",
    "    if out_file.exists() and overwrite is False:\n",
    "        print(f\"Found {str(out_file)} and overwriting was forbidden, skipping download.\")\n",
    "        return\n",
    "    \n",
    "    # build our urls and params to send the server\n",
    "    swift_referer_base_url = 'https://www.swift.ac.uk/archive/prepdata.php'\n",
    "    swift_download_portal_base_url = 'https://www.swift.ac.uk/archive/download.tar'\n",
    "\n",
    "    referer_url = f\"{swift_referer_base_url}?tid={tid}&source=obs&name={tname}&referer=portal\"\n",
    "    params = {\n",
    "        'reproc': '1',\n",
    "        'tid': tid,\n",
    "        'source': 'obs',\n",
    "        'subdir': dtype,\n",
    "    }\n",
    "\n",
    "    # lie to the server\n",
    "    request_header = {\n",
    "        'User-Agent': 'Mozilla/5.0 (Macintosh; Intel Mac OS X 10.15; rv:109.0) Gecko/20100101 Firefox/109.0',\n",
    "        'Accept': 'text/html,application/xhtml+xml,application/xml;q=0.9,image/avif,image/webp,*/*;q=0.8',\n",
    "        'Accept-Language': 'en-US,en;q=0.5',\n",
    "        'Referer': referer_url,\n",
    "        'DNT': '1',\n",
    "        'Connection': 'keep-alive',\n",
    "        'Upgrade-Insecure-Requests': '1',\n",
    "        'Sec-Fetch-Dest': 'document',\n",
    "        'Sec-Fetch-Mode': 'navigate',\n",
    "        'Sec-Fetch-Site': 'same-origin',\n",
    "        'Sec-Fetch-User': '?1',\n",
    "        'Sec-GPC': '1',\n",
    "    }\n",
    "\n",
    "    print(f\"Attempting to download {tid} of {tname} to {out_file}, please wait ...\")\n",
    "    response = requests.get(swift_download_portal_base_url, params=params, headers=request_header)\n",
    "    print(f\"Requested data from {response.url}, response code {response.status_code} ...\")\n",
    "\n",
    "    # name the output file if it wasn't passed in an argument\n",
    "    with open(out_file, 'wb') as f:\n",
    "        f.write(response.content)\n",
    "    \n",
    "    print(f\"Wrote {str(out_file)}.\")\n",
    "\n",
    "    return"
   ]
  },
  {
   "cell_type": "code",
   "execution_count": 9,
   "id": "d3d30f1e-5a55-4144-9f57-d75f1feb0f9e",
   "metadata": {
    "jupyter": {
     "source_hidden": true
    },
    "tags": []
   },
   "outputs": [],
   "source": [
    "def swift_download_all_results(search: str, dtype_list: str, dest_dir: pathlib.Path, download_type: str, overwrite=False) -> None:\n",
    "    \n",
    "    allowed_download_types = ['uncompressed', 'tar', 'zip']\n",
    "    if download_type not in allowed_download_types:\n",
    "        print(f\"Unsupported download type {download_type}!\\nTry one of: {', '.join(allowed_download_types)}.\")\n",
    "        return\n",
    "    \n",
    "    swift_results = search_swift_dead_portal(search)\n",
    "    \n",
    "    for dtype in dtype_list:\n",
    "        for tid, tname in swift_results:\n",
    "            print(f\"{dtype=}\\t{tid=}\\t{tname=}\")\n",
    "            if download_type == 'uncompressed':\n",
    "                swift_download_uncompressed(tid=tid, dtype=dtype, dest_dir=dest_dir, overwrite=overwrite)\n",
    "            if download_type in ['tar', 'zip']:\n",
    "                swift_download_compressed(tid=tid, tname=tname, dtype=dtype, archive_type=download_type, dest_dir=dest_dir, overwrite=overwrite)      \n",
    "    \n",
    "    print(\"Downloads complete!\")"
   ]
  },
  {
   "cell_type": "code",
   "execution_count": 11,
   "id": "d9756861-3f1c-4d72-b6f6-f2c3d56cf86e",
   "metadata": {
    "collapsed": true,
    "jupyter": {
     "outputs_hidden": true,
     "source_hidden": true
    },
    "tags": []
   },
   "outputs": [
    {
     "name": "stdout",
     "output_type": "stream",
     "text": [
      "dtype='auxil'\ttid='00034470'\ttname='CometCatalinaOrbit2'\n",
      "Found 00034470_auxil.tar and overwriting was forbidden, skipping download.\n",
      "dtype='auxil'\ttid='00034471'\ttname='CometCatalinaOrbit2'\n",
      "Found 00034471_auxil.tar and overwriting was forbidden, skipping download.\n",
      "dtype='log'\ttid='00034470'\ttname='CometCatalinaOrbit2'\n",
      "Found 00034470_log.tar and overwriting was forbidden, skipping download.\n",
      "dtype='log'\ttid='00034471'\ttname='CometCatalinaOrbit2'\n",
      "Found 00034471_log.tar and overwriting was forbidden, skipping download.\n",
      "dtype='bat'\ttid='00034470'\ttname='CometCatalinaOrbit2'\n",
      "Found 00034470_bat.tar and overwriting was forbidden, skipping download.\n",
      "dtype='bat'\ttid='00034471'\ttname='CometCatalinaOrbit2'\n",
      "Found 00034471_bat.tar and overwriting was forbidden, skipping download.\n",
      "Downloads complete!\n"
     ]
    }
   ],
   "source": [
    "download_path = pathlib.Path.home() / 'Downloads' / 'swift'\n",
    "\n",
    "swift_download_all_results('CometCatalinaOrbit2', ['auxil', 'log', 'bat'], dest_dir=download_path, download_type='tar')"
   ]
  },
  {
   "cell_type": "code",
   "execution_count": 13,
   "id": "8e290524-5ea4-4875-a3f7-8cb1aecfe178",
   "metadata": {
    "jupyter": {
     "source_hidden": true
    },
    "tags": []
   },
   "outputs": [],
   "source": [
    "swift_results = search_swift_dead_portal('catalina')"
   ]
  },
  {
   "cell_type": "code",
   "execution_count": 14,
   "id": "b2b26b88-21db-401e-87a0-721fc8e29394",
   "metadata": {
    "tags": []
   },
   "outputs": [
    {
     "name": "stdout",
     "output_type": "stream",
     "text": [
      "[('00020405', 'CometC/2013US10(Catalina)'), ('00033369', 'CometC/2013US10(Catalina)'), ('00033517', 'CometC/2013US10Catalina'), ('00033518', 'CometC/2013US10Catalina'), ('00033554', 'CometC/2013US10Catalina'), ('00033555', 'CometC/2013US10Catalina'), ('00033757', 'CometC/2013US10Catalina'), ('00033758', 'CometC/2013US10Catalina'), ('00033759', 'CometC/2013US10Catalina'), ('00033760', 'CometC/2013US10Catalina'), ('00033822', 'C/2013US10(Catalina)'), ('00033824', 'C/2013US10(Catalina)'), ('00033826', 'C/2013US10(Catalina)'), ('00033827', 'C/2013US10(Catalina)'), ('00033931', 'C/2013US10(Catalina)'), ('00033932', 'C/2013US10(Catalina)'), ('00033933', 'C/2013US10(Catalina)'), ('00033934', 'C/2013US10(Catalina)'), ('00033935', 'C/2013US10(Catalina)'), ('00033936', 'C/2013US10(Catalina)'), ('00034020', 'C/2013US10(Catalina)'), ('00034021', 'C/2013US10(Catalina)'), ('00034022', 'C/2013US10(Catalina)'), ('00034023', 'C/2013US10(Catalina)'), ('00034024', 'C/2013US10(Catalina)'), ('00034025', 'C/2013US10(Catalina)'), ('00034315', 'C/2013USCatalina'), ('00034316', 'C/2013US10CatalinaOrbit2'), ('00034317', 'C/2013US10CatalinaOrbit2Ptg2'), ('00034318', 'C/2013US10CatalinaOrbit3'), ('00034319', 'C/2013US10CatalinaOrbit4'), ('00034320', 'C/2013US10CatalinaOrbit4Ptg2'), ('00034421', 'C/2013US10(Catalina)'), ('00034422', 'C/2013US10(Catalina)'), ('00034423', 'C/2013US10(Catalina)'), ('00034424', 'C/2013US10(Catalina)'), ('00034425', 'C/2013US10(Catalina)'), ('00034426', 'C/2013US10(Catalina)'), ('00034469', 'CometCatalinaOrbit1'), ('00034470', 'CometCatalinaOrbit2'), ('00034471', 'CometCatalinaOrbit2'), ('00034472', 'CometCatalinaOrbit3'), ('00034473', 'CometCatalinaOrbit4'), ('00034474', 'CometCatalinaOrbit4'), ('00034686', 'C/2013US10Catalina'), ('00034687', 'C/2013US10Catalina'), ('00034688', 'C/2013US10Catalina'), ('00034830', 'Comet2013US10Catalina'), ('00034831', 'Comet2013US10Catalina'), ('00034832', 'Comet2013US10Catalina')]\n"
     ]
    }
   ],
   "source": [
    "print(swift_results)"
   ]
  },
  {
   "cell_type": "code",
   "execution_count": 20,
   "id": "abbacacc-e5f8-4332-8163-664091c33eb7",
   "metadata": {
    "tags": []
   },
   "outputs": [],
   "source": [
    "def one_result_guy(result=page_html_one_result):\n",
    "    return True"
   ]
  },
  {
   "cell_type": "code",
   "execution_count": 18,
   "id": "55211310-947c-448c-bf24-1bc8f4a9ec2b",
   "metadata": {
    "tags": []
   },
   "outputs": [],
   "source": [
    "# construct the search url\n",
    "base_search_url = 'https://www.swift.ac.uk/dead_portal/getobject.php'\n",
    "search_url = base_search_url + '?name=' + 'CometCatalinaOrbit1' + '&submit=Search+Names'\n",
    "    \n",
    "# download the search page and parse it\n",
    "page_html_one_result = requests.get(search_url)"
   ]
  },
  {
   "cell_type": "code",
   "execution_count": 22,
   "id": "0bec1ce0-192f-445a-aa8d-396ebf866c85",
   "metadata": {},
   "outputs": [
    {
     "name": "stdout",
     "output_type": "stream",
     "text": [
      "https://www.swift.ac.uk/archive/prepdata.php?tid=34469&source=obs&name=CometCatalinaOrbit1&referer=portal&cone=1\n"
     ]
    }
   ],
   "source": [
    "print(page_html_one_result.url)"
   ]
  },
  {
   "cell_type": "code",
   "execution_count": 28,
   "id": "5c7f24ac-746a-4be1-9e6b-6eab8d6e7ce6",
   "metadata": {},
   "outputs": [],
   "source": [
    "o = urlparse(page_html_one_result.url)"
   ]
  },
  {
   "cell_type": "code",
   "execution_count": 29,
   "id": "11d0fdf3-0548-41a2-a05e-3f8d15337438",
   "metadata": {},
   "outputs": [],
   "source": [
    "query = parse_qs(o.query)"
   ]
  },
  {
   "cell_type": "code",
   "execution_count": 30,
   "id": "977c4080-bb3d-4c0d-bfec-b4c278e7c3da",
   "metadata": {},
   "outputs": [
    {
     "name": "stdout",
     "output_type": "stream",
     "text": [
      "{'tid': ['34469'], 'source': ['obs'], 'name': ['CometCatalinaOrbit1'], 'referer': ['portal'], 'cone': ['1']}\n"
     ]
    }
   ],
   "source": [
    "print(query)"
   ]
  },
  {
   "cell_type": "code",
   "execution_count": null,
   "id": "53a0eb7b-b70b-4589-a322-66f8241a35f6",
   "metadata": {},
   "outputs": [],
   "source": []
  }
 ],
 "metadata": {
  "kernelspec": {
   "display_name": "Python 3 (ipykernel)",
   "language": "python",
   "name": "python3"
  },
  "language_info": {
   "codemirror_mode": {
    "name": "ipython",
    "version": 3
   },
   "file_extension": ".py",
   "mimetype": "text/x-python",
   "name": "python",
   "nbconvert_exporter": "python",
   "pygments_lexer": "ipython3",
   "version": "3.10.9"
  },
  "toc-showcode": true
 },
 "nbformat": 4,
 "nbformat_minor": 5
}
